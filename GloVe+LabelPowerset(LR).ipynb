{
 "cells": [
  {
   "cell_type": "code",
   "execution_count": 6,
   "id": "b2a0ea90-6cc9-4e4f-aba8-710ba2828a27",
   "metadata": {},
   "outputs": [],
   "source": [
    "import pandas as pd\n",
    "from sklearn.model_selection import train_test_split\n",
    "from sklearn.ensemble import RandomForestClassifier\n",
    "from sklearn.preprocessing import MultiLabelBinarizer\n",
    "from gensim.models import Word2Vec\n",
    "from sklearn.metrics import accuracy_score, classification_report\n",
    "from tqdm import tqdm\n",
    "from sklearn.metrics import make_scorer, f1_score\n",
    "import numpy as np\n",
    "from sklearn.linear_model import LogisticRegression\n",
    "from skmultilearn.problem_transform import LabelPowerset\n",
    "from sklearn.model_selection import train_test_split, GridSearchCV"
   ]
  },
  {
   "cell_type": "code",
   "execution_count": 7,
   "id": "35408071-1296-43b8-8977-6dccc8930a36",
   "metadata": {},
   "outputs": [
    {
     "name": "stdout",
     "output_type": "stream",
     "text": [
      "                          genre  \\\n",
      "0            Documentary, Short   \n",
      "1                         Short   \n",
      "2      Animation, Comedy, Short   \n",
      "3            Documentary, Short   \n",
      "4            Documentary, Short   \n",
      "...                         ...   \n",
      "46004                     Drama   \n",
      "46006               Documentary   \n",
      "46007                    Horror   \n",
      "46008  Comedy, Fantasy, Romance   \n",
      "46010                    Sci-Fi   \n",
      "\n",
      "                                                fullplot  \n",
      "0      Performing on what looks like a small wooden s...  \n",
      "1      A stationary camera looks at a large anvil wit...  \n",
      "2      One night, Arlequin come to see his lover Colo...  \n",
      "3      A man (Edison's assistant) takes a pinch of sn...  \n",
      "4      A man opens the big gates to the Lumi�re facto...  \n",
      "...                                                  ...  \n",
      "46004  A post modern theater adaptation of a classic ...  \n",
      "46006  Musician Jonny Greenwood travels to Rajasthan,...  \n",
      "46007  A cash strapped student who starts working the...  \n",
      "46008  Riza is a minibus driver universally loved by ...  \n",
      "46010                    Plot is being kept under wraps.  \n",
      "\n",
      "[41244 rows x 2 columns]\n"
     ]
    }
   ],
   "source": [
    "# Assuming your data is in a CSV file named 'movie_data.csv'\n",
    "data = pd.read_csv('movies_initial.csv')\n",
    "\n",
    "data = data[['genre','fullplot']]\n",
    "\n",
    "data = data.dropna(subset=['genre', 'fullplot'])\n",
    "print(data)"
   ]
  },
  {
   "cell_type": "code",
   "execution_count": 8,
   "id": "c92d8da2-16f2-402a-9fbb-e3fe83cea054",
   "metadata": {},
   "outputs": [],
   "source": [
    "\n",
    "# Split the data into training and testing sets\n",
    "train_data, test_data = train_test_split(data, test_size=0.2, random_state=42)\n",
    "\n",
    "# Convert genre labels into a binary matrix for multi-label classification\n",
    "mlb = MultiLabelBinarizer()\n",
    "y_train = mlb.fit_transform(train_data['genre'].str.split(', '))\n",
    "y_test = mlb.transform(test_data['genre'].str.split(', '))\n",
    "\n"
   ]
  },
  {
   "cell_type": "code",
   "execution_count": 9,
   "id": "9235f55a-cb25-4b92-a609-69584d97a445",
   "metadata": {},
   "outputs": [],
   "source": [
    "# Load GloVe embeddings (download 'glove.6B.50d.txt' or other variants)\n",
    "glove_file = 'glove.6B.300d.txt'\n",
    "word_vectors = {}\n",
    "with open(glove_file, encoding='utf-8') as f:\n",
    "    for line in f:\n",
    "        values = line.split()\n",
    "        word = values[0]\n",
    "        vectors = np.asarray(values[1:], dtype='float32')\n",
    "        word_vectors[word] = vectors\n",
    "\n",
    "# Create a function to get the average vector for a document\n",
    "def get_average_vector(doc, vectors):\n",
    "    words = doc.split()\n",
    "    vectors = [vectors[word] for word in words if word in vectors]\n",
    "    if not vectors:\n",
    "        return np.zeros(300)  # Assuming 50 dimensions for GloVe vectors\n",
    "    return np.mean(vectors, axis=0)\n",
    "\n"
   ]
  },
  {
   "cell_type": "code",
   "execution_count": 10,
   "id": "da2d9e91-941f-4013-9bb8-82e4d4e1b3ee",
   "metadata": {},
   "outputs": [
    {
     "name": "stderr",
     "output_type": "stream",
     "text": [
      "C:\\Users\\nchha\\AppData\\Local\\Programs\\Python\\Python311\\Lib\\site-packages\\sklearn\\linear_model\\_logistic.py:460: ConvergenceWarning: lbfgs failed to converge (status=1):\n",
      "STOP: TOTAL NO. of ITERATIONS REACHED LIMIT.\n",
      "\n",
      "Increase the number of iterations (max_iter) or scale the data as shown in:\n",
      "    https://scikit-learn.org/stable/modules/preprocessing.html\n",
      "Please also refer to the documentation for alternative solver options:\n",
      "    https://scikit-learn.org/stable/modules/linear_model.html#logistic-regression\n",
      "  n_iter_i = _check_optimize_result(\n"
     ]
    },
    {
     "data": {
      "text/html": [
       "<style>#sk-container-id-1 {color: black;}#sk-container-id-1 pre{padding: 0;}#sk-container-id-1 div.sk-toggleable {background-color: white;}#sk-container-id-1 label.sk-toggleable__label {cursor: pointer;display: block;width: 100%;margin-bottom: 0;padding: 0.3em;box-sizing: border-box;text-align: center;}#sk-container-id-1 label.sk-toggleable__label-arrow:before {content: \"▸\";float: left;margin-right: 0.25em;color: #696969;}#sk-container-id-1 label.sk-toggleable__label-arrow:hover:before {color: black;}#sk-container-id-1 div.sk-estimator:hover label.sk-toggleable__label-arrow:before {color: black;}#sk-container-id-1 div.sk-toggleable__content {max-height: 0;max-width: 0;overflow: hidden;text-align: left;background-color: #f0f8ff;}#sk-container-id-1 div.sk-toggleable__content pre {margin: 0.2em;color: black;border-radius: 0.25em;background-color: #f0f8ff;}#sk-container-id-1 input.sk-toggleable__control:checked~div.sk-toggleable__content {max-height: 200px;max-width: 100%;overflow: auto;}#sk-container-id-1 input.sk-toggleable__control:checked~label.sk-toggleable__label-arrow:before {content: \"▾\";}#sk-container-id-1 div.sk-estimator input.sk-toggleable__control:checked~label.sk-toggleable__label {background-color: #d4ebff;}#sk-container-id-1 div.sk-label input.sk-toggleable__control:checked~label.sk-toggleable__label {background-color: #d4ebff;}#sk-container-id-1 input.sk-hidden--visually {border: 0;clip: rect(1px 1px 1px 1px);clip: rect(1px, 1px, 1px, 1px);height: 1px;margin: -1px;overflow: hidden;padding: 0;position: absolute;width: 1px;}#sk-container-id-1 div.sk-estimator {font-family: monospace;background-color: #f0f8ff;border: 1px dotted black;border-radius: 0.25em;box-sizing: border-box;margin-bottom: 0.5em;}#sk-container-id-1 div.sk-estimator:hover {background-color: #d4ebff;}#sk-container-id-1 div.sk-parallel-item::after {content: \"\";width: 100%;border-bottom: 1px solid gray;flex-grow: 1;}#sk-container-id-1 div.sk-label:hover label.sk-toggleable__label {background-color: #d4ebff;}#sk-container-id-1 div.sk-serial::before {content: \"\";position: absolute;border-left: 1px solid gray;box-sizing: border-box;top: 0;bottom: 0;left: 50%;z-index: 0;}#sk-container-id-1 div.sk-serial {display: flex;flex-direction: column;align-items: center;background-color: white;padding-right: 0.2em;padding-left: 0.2em;position: relative;}#sk-container-id-1 div.sk-item {position: relative;z-index: 1;}#sk-container-id-1 div.sk-parallel {display: flex;align-items: stretch;justify-content: center;background-color: white;position: relative;}#sk-container-id-1 div.sk-item::before, #sk-container-id-1 div.sk-parallel-item::before {content: \"\";position: absolute;border-left: 1px solid gray;box-sizing: border-box;top: 0;bottom: 0;left: 50%;z-index: -1;}#sk-container-id-1 div.sk-parallel-item {display: flex;flex-direction: column;z-index: 1;position: relative;background-color: white;}#sk-container-id-1 div.sk-parallel-item:first-child::after {align-self: flex-end;width: 50%;}#sk-container-id-1 div.sk-parallel-item:last-child::after {align-self: flex-start;width: 50%;}#sk-container-id-1 div.sk-parallel-item:only-child::after {width: 0;}#sk-container-id-1 div.sk-dashed-wrapped {border: 1px dashed gray;margin: 0 0.4em 0.5em 0.4em;box-sizing: border-box;padding-bottom: 0.4em;background-color: white;}#sk-container-id-1 div.sk-label label {font-family: monospace;font-weight: bold;display: inline-block;line-height: 1.2em;}#sk-container-id-1 div.sk-label-container {text-align: center;}#sk-container-id-1 div.sk-container {/* jupyter's `normalize.less` sets `[hidden] { display: none; }` but bootstrap.min.css set `[hidden] { display: none !important; }` so we also need the `!important` here to be able to override the default hidden behavior on the sphinx rendered scikit-learn.org. See: https://github.com/scikit-learn/scikit-learn/issues/21755 */display: inline-block !important;position: relative;}#sk-container-id-1 div.sk-text-repr-fallback {display: none;}</style><div id=\"sk-container-id-1\" class=\"sk-top-container\"><div class=\"sk-text-repr-fallback\"><pre>LabelPowerset(classifier=LogisticRegression(), require_dense=[True, True])</pre><b>In a Jupyter environment, please rerun this cell to show the HTML representation or trust the notebook. <br />On GitHub, the HTML representation is unable to render, please try loading this page with nbviewer.org.</b></div><div class=\"sk-container\" hidden><div class=\"sk-item sk-dashed-wrapped\"><div class=\"sk-label-container\"><div class=\"sk-label sk-toggleable\"><input class=\"sk-toggleable__control sk-hidden--visually\" id=\"sk-estimator-id-1\" type=\"checkbox\" ><label for=\"sk-estimator-id-1\" class=\"sk-toggleable__label sk-toggleable__label-arrow\">LabelPowerset</label><div class=\"sk-toggleable__content\"><pre>LabelPowerset(classifier=LogisticRegression(), require_dense=[True, True])</pre></div></div></div><div class=\"sk-parallel\"><div class=\"sk-parallel-item\"><div class=\"sk-item\"><div class=\"sk-label-container\"><div class=\"sk-label sk-toggleable\"><input class=\"sk-toggleable__control sk-hidden--visually\" id=\"sk-estimator-id-2\" type=\"checkbox\" ><label for=\"sk-estimator-id-2\" class=\"sk-toggleable__label sk-toggleable__label-arrow\">classifier: LogisticRegression</label><div class=\"sk-toggleable__content\"><pre>LogisticRegression()</pre></div></div></div><div class=\"sk-serial\"><div class=\"sk-item\"><div class=\"sk-estimator sk-toggleable\"><input class=\"sk-toggleable__control sk-hidden--visually\" id=\"sk-estimator-id-3\" type=\"checkbox\" ><label for=\"sk-estimator-id-3\" class=\"sk-toggleable__label sk-toggleable__label-arrow\">LogisticRegression</label><div class=\"sk-toggleable__content\"><pre>LogisticRegression()</pre></div></div></div></div></div></div></div></div></div></div>"
      ],
      "text/plain": [
       "LabelPowerset(classifier=LogisticRegression(), require_dense=[True, True])"
      ]
     },
     "execution_count": 10,
     "metadata": {},
     "output_type": "execute_result"
    }
   ],
   "source": [
    "\n",
    "# Apply the function to each document in the training and testing sets\n",
    "X_train = np.array([get_average_vector(doc, word_vectors) for doc in train_data['fullplot']])\n",
    "X_test = np.array([get_average_vector(doc, word_vectors) for doc in test_data['fullplot']])\n",
    "\n",
    "# Initialize and train the Label Powerset Random Forest Classifier\n",
    "classifier = LabelPowerset(classifier=LogisticRegression())\n",
    "classifier.fit(X_train, y_train)\n"
   ]
  },
  {
   "cell_type": "code",
   "execution_count": 11,
   "id": "d667499b-00da-4350-8600-92d98e51f769",
   "metadata": {},
   "outputs": [],
   "source": [
    "\n",
    "# Predict the labels for the test set\n",
    "y_pred = classifier.predict(X_test)"
   ]
  },
  {
   "cell_type": "code",
   "execution_count": 12,
   "id": "6d4557a9-6d20-4140-be5e-1306a2dc70ad",
   "metadata": {},
   "outputs": [
    {
     "name": "stdout",
     "output_type": "stream",
     "text": [
      "Accuracy: 0.18\n",
      "\n",
      "Classification Report:\n",
      "              precision    recall  f1-score   support\n",
      "\n",
      "      Action       0.52      0.28      0.37      1105\n",
      "       Adult       0.00      0.00      0.00         1\n",
      "   Adventure       0.55      0.18      0.27       752\n",
      "   Animation       0.48      0.09      0.15       350\n",
      "   Biography       0.43      0.10      0.16       372\n",
      "      Comedy       0.60      0.47      0.53      2523\n",
      "       Crime       0.55      0.28      0.37      1025\n",
      " Documentary       0.59      0.67      0.63       727\n",
      "       Drama       0.65      0.73      0.69      4009\n",
      "      Family       0.59      0.04      0.07       430\n",
      "     Fantasy       0.35      0.04      0.08       415\n",
      "   Film-Noir       0.07      0.04      0.05        85\n",
      "     History       0.23      0.04      0.07       297\n",
      "      Horror       0.55      0.45      0.49       860\n",
      "       Music       0.53      0.15      0.23       255\n",
      "     Musical       0.00      0.00      0.00       189\n",
      "     Mystery       0.36      0.04      0.08       509\n",
      "        News       0.00      0.00      0.00        16\n",
      "  Reality-TV       0.00      0.00      0.00         1\n",
      "     Romance       0.44      0.12      0.19      1184\n",
      "      Sci-Fi       0.55      0.24      0.34       450\n",
      "       Short       0.70      0.16      0.25       225\n",
      "       Sport       0.38      0.12      0.18       133\n",
      "   Talk-Show       0.00      0.00      0.00         0\n",
      "    Thriller       0.38      0.11      0.17      1104\n",
      "         War       0.50      0.24      0.32       267\n",
      "     Western       0.46      0.33      0.38       216\n",
      "\n",
      "   micro avg       0.58      0.37      0.45     17500\n",
      "   macro avg       0.39      0.18      0.22     17500\n",
      "weighted avg       0.53      0.37      0.40     17500\n",
      " samples avg       0.61      0.42      0.47     17500\n",
      "\n"
     ]
    },
    {
     "name": "stderr",
     "output_type": "stream",
     "text": [
      "C:\\Users\\nchha\\AppData\\Local\\Programs\\Python\\Python311\\Lib\\site-packages\\sklearn\\metrics\\_classification.py:1471: UndefinedMetricWarning: Precision and F-score are ill-defined and being set to 0.0 in labels with no predicted samples. Use `zero_division` parameter to control this behavior.\n",
      "  _warn_prf(average, modifier, msg_start, len(result))\n",
      "C:\\Users\\nchha\\AppData\\Local\\Programs\\Python\\Python311\\Lib\\site-packages\\sklearn\\metrics\\_classification.py:1471: UndefinedMetricWarning: Recall and F-score are ill-defined and being set to 0.0 in labels with no true samples. Use `zero_division` parameter to control this behavior.\n",
      "  _warn_prf(average, modifier, msg_start, len(result))\n"
     ]
    }
   ],
   "source": [
    "\n",
    "# Evaluate the performance\n",
    "accuracy = accuracy_score(y_test, y_pred)\n",
    "print(f\"Accuracy: {accuracy:.2f}\")\n",
    "\n",
    "# Display detailed classification report\n",
    "print(\"\\nClassification Report:\")\n",
    "print(classification_report(y_test, y_pred, target_names=mlb.classes_))"
   ]
  },
  {
   "cell_type": "code",
   "execution_count": null,
   "id": "ee507073-1e5a-4057-9436-7c1601e85482",
   "metadata": {},
   "outputs": [],
   "source": []
  },
  {
   "cell_type": "code",
   "execution_count": null,
   "id": "4177afc4-47a7-4170-91df-59f1b6338321",
   "metadata": {},
   "outputs": [],
   "source": []
  },
  {
   "cell_type": "code",
   "execution_count": null,
   "id": "8dd2ee3a-e6ac-4dce-8a65-197848c99d9e",
   "metadata": {},
   "outputs": [],
   "source": []
  }
 ],
 "metadata": {
  "kernelspec": {
   "display_name": "Python 3 (ipykernel)",
   "language": "python",
   "name": "python3"
  },
  "language_info": {
   "codemirror_mode": {
    "name": "ipython",
    "version": 3
   },
   "file_extension": ".py",
   "mimetype": "text/x-python",
   "name": "python",
   "nbconvert_exporter": "python",
   "pygments_lexer": "ipython3",
   "version": "3.11.2"
  }
 },
 "nbformat": 4,
 "nbformat_minor": 5
}
