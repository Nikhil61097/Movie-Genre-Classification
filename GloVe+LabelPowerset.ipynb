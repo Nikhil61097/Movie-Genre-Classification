{
 "cells": [
  {
   "cell_type": "code",
   "execution_count": 6,
   "id": "f33e151d-a981-4380-bd4a-0ae2cd83e9d2",
   "metadata": {},
   "outputs": [],
   "source": [
    "import pandas as pd\n",
    "from sklearn.model_selection import train_test_split\n",
    "from sklearn.ensemble import RandomForestClassifier\n",
    "from sklearn.preprocessing import MultiLabelBinarizer\n",
    "from gensim.models import Word2Vec\n",
    "from sklearn.metrics import accuracy_score, classification_report\n",
    "from tqdm import tqdm\n",
    "from sklearn.metrics import make_scorer, f1_score\n",
    "import numpy as np\n",
    "from skmultilearn.problem_transform import LabelPowerset\n",
    "from sklearn.model_selection import train_test_split, GridSearchCV"
   ]
  },
  {
   "cell_type": "code",
   "execution_count": 7,
   "id": "a82f8e57-e382-4973-b18b-b299369f05fd",
   "metadata": {},
   "outputs": [
    {
     "name": "stdout",
     "output_type": "stream",
     "text": [
      "                          genre  \\\n",
      "0            Documentary, Short   \n",
      "1                         Short   \n",
      "2      Animation, Comedy, Short   \n",
      "3            Documentary, Short   \n",
      "4            Documentary, Short   \n",
      "...                         ...   \n",
      "46004                     Drama   \n",
      "46006               Documentary   \n",
      "46007                    Horror   \n",
      "46008  Comedy, Fantasy, Romance   \n",
      "46010                    Sci-Fi   \n",
      "\n",
      "                                                fullplot  \n",
      "0      Performing on what looks like a small wooden s...  \n",
      "1      A stationary camera looks at a large anvil wit...  \n",
      "2      One night, Arlequin come to see his lover Colo...  \n",
      "3      A man (Edison's assistant) takes a pinch of sn...  \n",
      "4      A man opens the big gates to the Lumi�re facto...  \n",
      "...                                                  ...  \n",
      "46004  A post modern theater adaptation of a classic ...  \n",
      "46006  Musician Jonny Greenwood travels to Rajasthan,...  \n",
      "46007  A cash strapped student who starts working the...  \n",
      "46008  Riza is a minibus driver universally loved by ...  \n",
      "46010                    Plot is being kept under wraps.  \n",
      "\n",
      "[41244 rows x 2 columns]\n"
     ]
    }
   ],
   "source": [
    "# Assuming your data is in a CSV file named 'movie_data.csv'\n",
    "data = pd.read_csv('movies_initial.csv')\n",
    "\n",
    "data = data[['genre','fullplot']]\n",
    "\n",
    "data = data.dropna(subset=['genre', 'fullplot'])\n",
    "print(data)"
   ]
  },
  {
   "cell_type": "code",
   "execution_count": 8,
   "id": "a4b324fa-4d9b-4465-8b33-a0d7543c8a9f",
   "metadata": {},
   "outputs": [],
   "source": [
    "\n",
    "# Split the data into training and testing sets\n",
    "train_data, test_data = train_test_split(data, test_size=0.2, random_state=42)\n",
    "\n",
    "# Convert genre labels into a binary matrix for multi-label classification\n",
    "mlb = MultiLabelBinarizer()\n",
    "y_train = mlb.fit_transform(train_data['genre'].str.split(', '))\n",
    "y_test = mlb.transform(test_data['genre'].str.split(', '))\n"
   ]
  },
  {
   "cell_type": "code",
   "execution_count": 13,
   "id": "39c0c794-2241-45c3-be23-e6cb9f1e42ed",
   "metadata": {},
   "outputs": [],
   "source": [
    "# Load GloVe embeddings (download 'glove.6B.50d.txt' or other variants)\n",
    "glove_file = 'glove.6B.100d.txt'\n",
    "word_vectors = {}\n",
    "with open(glove_file, encoding='utf-8') as f:\n",
    "    for line in f:\n",
    "        values = line.split()\n",
    "        word = values[0]\n",
    "        vectors = np.asarray(values[1:], dtype='float32')\n",
    "        word_vectors[word] = vectors\n",
    "\n",
    "# Create a function to get the average vector for a document\n",
    "def get_average_vector(doc, vectors):\n",
    "    words = doc.split()\n",
    "    vectors = [vectors[word] for word in words if word in vectors]\n",
    "    if not vectors:\n",
    "        return np.zeros(100)  # Assuming 50 dimensions for GloVe vectors\n",
    "    return np.mean(vectors, axis=0)\n",
    "\n"
   ]
  },
  {
   "cell_type": "code",
   "execution_count": 14,
   "id": "4ed8728a-b054-4a2b-a46f-a6c47b749a5f",
   "metadata": {},
   "outputs": [
    {
     "data": {
      "text/html": [
       "<style>#sk-container-id-2 {color: black;}#sk-container-id-2 pre{padding: 0;}#sk-container-id-2 div.sk-toggleable {background-color: white;}#sk-container-id-2 label.sk-toggleable__label {cursor: pointer;display: block;width: 100%;margin-bottom: 0;padding: 0.3em;box-sizing: border-box;text-align: center;}#sk-container-id-2 label.sk-toggleable__label-arrow:before {content: \"▸\";float: left;margin-right: 0.25em;color: #696969;}#sk-container-id-2 label.sk-toggleable__label-arrow:hover:before {color: black;}#sk-container-id-2 div.sk-estimator:hover label.sk-toggleable__label-arrow:before {color: black;}#sk-container-id-2 div.sk-toggleable__content {max-height: 0;max-width: 0;overflow: hidden;text-align: left;background-color: #f0f8ff;}#sk-container-id-2 div.sk-toggleable__content pre {margin: 0.2em;color: black;border-radius: 0.25em;background-color: #f0f8ff;}#sk-container-id-2 input.sk-toggleable__control:checked~div.sk-toggleable__content {max-height: 200px;max-width: 100%;overflow: auto;}#sk-container-id-2 input.sk-toggleable__control:checked~label.sk-toggleable__label-arrow:before {content: \"▾\";}#sk-container-id-2 div.sk-estimator input.sk-toggleable__control:checked~label.sk-toggleable__label {background-color: #d4ebff;}#sk-container-id-2 div.sk-label input.sk-toggleable__control:checked~label.sk-toggleable__label {background-color: #d4ebff;}#sk-container-id-2 input.sk-hidden--visually {border: 0;clip: rect(1px 1px 1px 1px);clip: rect(1px, 1px, 1px, 1px);height: 1px;margin: -1px;overflow: hidden;padding: 0;position: absolute;width: 1px;}#sk-container-id-2 div.sk-estimator {font-family: monospace;background-color: #f0f8ff;border: 1px dotted black;border-radius: 0.25em;box-sizing: border-box;margin-bottom: 0.5em;}#sk-container-id-2 div.sk-estimator:hover {background-color: #d4ebff;}#sk-container-id-2 div.sk-parallel-item::after {content: \"\";width: 100%;border-bottom: 1px solid gray;flex-grow: 1;}#sk-container-id-2 div.sk-label:hover label.sk-toggleable__label {background-color: #d4ebff;}#sk-container-id-2 div.sk-serial::before {content: \"\";position: absolute;border-left: 1px solid gray;box-sizing: border-box;top: 0;bottom: 0;left: 50%;z-index: 0;}#sk-container-id-2 div.sk-serial {display: flex;flex-direction: column;align-items: center;background-color: white;padding-right: 0.2em;padding-left: 0.2em;position: relative;}#sk-container-id-2 div.sk-item {position: relative;z-index: 1;}#sk-container-id-2 div.sk-parallel {display: flex;align-items: stretch;justify-content: center;background-color: white;position: relative;}#sk-container-id-2 div.sk-item::before, #sk-container-id-2 div.sk-parallel-item::before {content: \"\";position: absolute;border-left: 1px solid gray;box-sizing: border-box;top: 0;bottom: 0;left: 50%;z-index: -1;}#sk-container-id-2 div.sk-parallel-item {display: flex;flex-direction: column;z-index: 1;position: relative;background-color: white;}#sk-container-id-2 div.sk-parallel-item:first-child::after {align-self: flex-end;width: 50%;}#sk-container-id-2 div.sk-parallel-item:last-child::after {align-self: flex-start;width: 50%;}#sk-container-id-2 div.sk-parallel-item:only-child::after {width: 0;}#sk-container-id-2 div.sk-dashed-wrapped {border: 1px dashed gray;margin: 0 0.4em 0.5em 0.4em;box-sizing: border-box;padding-bottom: 0.4em;background-color: white;}#sk-container-id-2 div.sk-label label {font-family: monospace;font-weight: bold;display: inline-block;line-height: 1.2em;}#sk-container-id-2 div.sk-label-container {text-align: center;}#sk-container-id-2 div.sk-container {/* jupyter's `normalize.less` sets `[hidden] { display: none; }` but bootstrap.min.css set `[hidden] { display: none !important; }` so we also need the `!important` here to be able to override the default hidden behavior on the sphinx rendered scikit-learn.org. See: https://github.com/scikit-learn/scikit-learn/issues/21755 */display: inline-block !important;position: relative;}#sk-container-id-2 div.sk-text-repr-fallback {display: none;}</style><div id=\"sk-container-id-2\" class=\"sk-top-container\"><div class=\"sk-text-repr-fallback\"><pre>LabelPowerset(classifier=RandomForestClassifier(random_state=42),\n",
       "              require_dense=[True, True])</pre><b>In a Jupyter environment, please rerun this cell to show the HTML representation or trust the notebook. <br />On GitHub, the HTML representation is unable to render, please try loading this page with nbviewer.org.</b></div><div class=\"sk-container\" hidden><div class=\"sk-item sk-dashed-wrapped\"><div class=\"sk-label-container\"><div class=\"sk-label sk-toggleable\"><input class=\"sk-toggleable__control sk-hidden--visually\" id=\"sk-estimator-id-4\" type=\"checkbox\" ><label for=\"sk-estimator-id-4\" class=\"sk-toggleable__label sk-toggleable__label-arrow\">LabelPowerset</label><div class=\"sk-toggleable__content\"><pre>LabelPowerset(classifier=RandomForestClassifier(random_state=42),\n",
       "              require_dense=[True, True])</pre></div></div></div><div class=\"sk-parallel\"><div class=\"sk-parallel-item\"><div class=\"sk-item\"><div class=\"sk-label-container\"><div class=\"sk-label sk-toggleable\"><input class=\"sk-toggleable__control sk-hidden--visually\" id=\"sk-estimator-id-5\" type=\"checkbox\" ><label for=\"sk-estimator-id-5\" class=\"sk-toggleable__label sk-toggleable__label-arrow\">classifier: RandomForestClassifier</label><div class=\"sk-toggleable__content\"><pre>RandomForestClassifier(random_state=42)</pre></div></div></div><div class=\"sk-serial\"><div class=\"sk-item\"><div class=\"sk-estimator sk-toggleable\"><input class=\"sk-toggleable__control sk-hidden--visually\" id=\"sk-estimator-id-6\" type=\"checkbox\" ><label for=\"sk-estimator-id-6\" class=\"sk-toggleable__label sk-toggleable__label-arrow\">RandomForestClassifier</label><div class=\"sk-toggleable__content\"><pre>RandomForestClassifier(random_state=42)</pre></div></div></div></div></div></div></div></div></div></div>"
      ],
      "text/plain": [
       "LabelPowerset(classifier=RandomForestClassifier(random_state=42),\n",
       "              require_dense=[True, True])"
      ]
     },
     "execution_count": 14,
     "metadata": {},
     "output_type": "execute_result"
    }
   ],
   "source": [
    "\n",
    "# Apply the function to each document in the training and testing sets\n",
    "X_train = np.array([get_average_vector(doc, word_vectors) for doc in train_data['fullplot']])\n",
    "X_test = np.array([get_average_vector(doc, word_vectors) for doc in test_data['fullplot']])\n",
    "\n",
    "# Initialize and train the Label Powerset Random Forest Classifier\n",
    "classifier = LabelPowerset(classifier=RandomForestClassifier(n_estimators=100, random_state=42))\n",
    "classifier.fit(X_train, y_train)\n"
   ]
  },
  {
   "cell_type": "code",
   "execution_count": 15,
   "id": "4b866a78-7e43-4b4a-b915-a9fa13be8435",
   "metadata": {},
   "outputs": [],
   "source": [
    "\n",
    "# Predict the labels for the test set\n",
    "y_pred = classifier.predict(X_test)"
   ]
  },
  {
   "cell_type": "code",
   "execution_count": 16,
   "id": "eb151be3-ebce-44c7-948f-1b74de859349",
   "metadata": {},
   "outputs": [
    {
     "name": "stdout",
     "output_type": "stream",
     "text": [
      "Classification Report:\n",
      "              precision    recall  f1-score   support\n",
      "\n",
      "      Action       0.60      0.24      0.34      1105\n",
      "       Adult       0.00      0.00      0.00         1\n",
      "   Adventure       0.66      0.10      0.18       752\n",
      "   Animation       0.77      0.10      0.18       350\n",
      "   Biography       1.00      0.06      0.12       372\n",
      "      Comedy       0.54      0.36      0.43      2523\n",
      "       Crime       0.56      0.21      0.31      1025\n",
      " Documentary       0.47      0.62      0.53       727\n",
      "       Drama       0.59      0.79      0.68      4009\n",
      "      Family       0.96      0.06      0.12       430\n",
      "     Fantasy       0.82      0.09      0.16       415\n",
      "   Film-Noir       0.00      0.00      0.00        85\n",
      "     History       0.78      0.05      0.09       297\n",
      "      Horror       0.55      0.21      0.30       860\n",
      "       Music       0.72      0.09      0.16       255\n",
      "     Musical       0.80      0.02      0.04       189\n",
      "     Mystery       0.93      0.08      0.14       509\n",
      "        News       1.00      0.06      0.12        16\n",
      "  Reality-TV       0.00      0.00      0.00         1\n",
      "     Romance       0.45      0.09      0.15      1184\n",
      "      Sci-Fi       0.59      0.12      0.20       450\n",
      "       Short       0.94      0.08      0.14       225\n",
      "       Sport       1.00      0.04      0.07       133\n",
      "   Talk-Show       0.00      0.00      0.00         0\n",
      "    Thriller       0.56      0.10      0.16      1104\n",
      "         War       0.69      0.17      0.28       267\n",
      "     Western       0.63      0.11      0.19       216\n",
      "\n",
      "   micro avg       0.57      0.33      0.42     17500\n",
      "   macro avg       0.62      0.14      0.19     17500\n",
      "weighted avg       0.62      0.33      0.36     17500\n",
      " samples avg       0.57      0.38      0.43     17500\n",
      "\n"
     ]
    },
    {
     "name": "stderr",
     "output_type": "stream",
     "text": [
      "C:\\Users\\nchha\\AppData\\Local\\Programs\\Python\\Python311\\Lib\\site-packages\\sklearn\\metrics\\_classification.py:1471: UndefinedMetricWarning: Precision and F-score are ill-defined and being set to 0.0 in labels with no predicted samples. Use `zero_division` parameter to control this behavior.\n",
      "  _warn_prf(average, modifier, msg_start, len(result))\n",
      "C:\\Users\\nchha\\AppData\\Local\\Programs\\Python\\Python311\\Lib\\site-packages\\sklearn\\metrics\\_classification.py:1471: UndefinedMetricWarning: Recall and F-score are ill-defined and being set to 0.0 in labels with no true samples. Use `zero_division` parameter to control this behavior.\n",
      "  _warn_prf(average, modifier, msg_start, len(result))\n"
     ]
    }
   ],
   "source": [
    "\n",
    "# Display classification report\n",
    "print(\"Classification Report:\")\n",
    "print(classification_report(y_test, y_pred, target_names=mlb.classes_))"
   ]
  },
  {
   "cell_type": "code",
   "execution_count": 17,
   "id": "46d61d42-9089-42ba-bc03-be9fcd97526b",
   "metadata": {},
   "outputs": [
    {
     "name": "stdout",
     "output_type": "stream",
     "text": [
      "Accuracy: 0.20\n"
     ]
    }
   ],
   "source": [
    "\n",
    "# Evaluate the performance\n",
    "accuracy = accuracy_score(y_test, y_pred)\n",
    "print(f\"Accuracy: {accuracy:.2f}\")\n"
   ]
  },
  {
   "cell_type": "code",
   "execution_count": null,
   "id": "0890d6d7-aea2-4b6e-bbc7-da4f3cf74b73",
   "metadata": {},
   "outputs": [],
   "source": []
  }
 ],
 "metadata": {
  "kernelspec": {
   "display_name": "Python 3 (ipykernel)",
   "language": "python",
   "name": "python3"
  },
  "language_info": {
   "codemirror_mode": {
    "name": "ipython",
    "version": 3
   },
   "file_extension": ".py",
   "mimetype": "text/x-python",
   "name": "python",
   "nbconvert_exporter": "python",
   "pygments_lexer": "ipython3",
   "version": "3.11.2"
  }
 },
 "nbformat": 4,
 "nbformat_minor": 5
}
