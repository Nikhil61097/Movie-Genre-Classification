{
 "cells": [
  {
   "cell_type": "code",
   "execution_count": 1,
   "id": "40e2436d-a4a1-4c8e-a023-95d4683253cd",
   "metadata": {},
   "outputs": [
    {
     "name": "stdout",
     "output_type": "stream",
     "text": [
      "                  genre                                           fullplot\n",
      "33876  [Drama, Romance]  Ronnie's (Miley Cyrus) and her younger brother...\n",
      "20454          [Comedy]  A middle-aged man's conservative life is distu...\n",
      "25431   [Action, Drama]  In Los Angeles, an ex-con takes the undergroun...\n",
      "3451          [Western]  After Confederate officer Blayde Hollister's h...\n",
      "36880        [Thriller]  An engaged couple's backpacking trip in the Ca...\n"
     ]
    }
   ],
   "source": [
    "import pandas as pd\n",
    "from sklearn.feature_extraction.text import CountVectorizer\n",
    "from sklearn.model_selection import train_test_split\n",
    "from sklearn.multiclass import OneVsRestClassifier\n",
    "from sklearn.svm import SVC\n",
    "from sklearn.preprocessing import MultiLabelBinarizer\n",
    "from sklearn.metrics import accuracy_score\n",
    "from sklearn.metrics import classification_report\n",
    "\n",
    "\n",
    "# Assuming your data is in a CSV file named 'movie_data.csv'\n",
    "data = pd.read_csv('movies_initial.csv')\n",
    "\n",
    "data = data[['genre','fullplot']]\n",
    "# Drop rows with null values\n",
    "data = data.dropna(subset=['genre', 'fullplot'])\n",
    "\n",
    "# Split the genres into separate labels\n",
    "data['genre'] = data['genre'].str.split(', ')\n",
    "\n",
    "data_s=data\n",
    "data = data_s.sample(frac=0.7, random_state=42)\n",
    "print(data.head())\n",
    "    "
   ]
  },
  {
   "cell_type": "code",
   "execution_count": 2,
   "id": "07ce6567-fc11-423d-ab05-38e308a8e013",
   "metadata": {},
   "outputs": [
    {
     "name": "stdout",
     "output_type": "stream",
     "text": [
      "[[0 0 0 0 0 1 0 0 0 0 0 0 0 0 0 0 0 0 0 0 0 0 0 0 0 0 0]\n",
      " [0 0 0 0 1 0 0 0 1 0 0 0 1 0 0 0 0 0 0 0 0 0 0 0 0 0 0]\n",
      " [0 0 0 0 0 1 0 0 1 0 0 0 0 0 0 0 0 0 0 0 0 0 0 0 0 0 0]\n",
      " [0 0 0 0 0 0 0 0 1 0 0 0 0 0 0 0 0 0 0 0 0 0 0 0 0 0 0]\n",
      " [0 0 0 0 0 0 0 0 1 0 0 0 0 0 0 0 0 0 0 1 0 0 0 0 0 0 0]]\n"
     ]
    }
   ],
   "source": [
    "# data['genre'] = data['genre'].str.split(',').apply(lambda x: [genre.strip() for genre in x])\n",
    "mlb = MultiLabelBinarizer()\n",
    "y = mlb.fit_transform(data['genre'])\n",
    "\n",
    "# Split the data into training and testing sets\n",
    "train_data, test_data, y_train, y_test = train_test_split(data['fullplot'], y, test_size=0.2, random_state=42)\n",
    "\n",
    "print(y_train[:5])"
   ]
  },
  {
   "cell_type": "code",
   "execution_count": 3,
   "id": "bd4c71a2-5733-4b4f-b56a-b126f0a48861",
   "metadata": {},
   "outputs": [
    {
     "name": "stdout",
     "output_type": "stream",
     "text": [
      "X_train   (0, 410)\t1\n",
      "  (0, 1955)\t1\n",
      "  (0, 1916)\t1\n",
      "  (0, 3044)\t1\n",
      "  (0, 3275)\t1\n",
      "  (0, 4955)\t1\n",
      "  (0, 3912)\t2\n",
      "  (0, 1695)\t1\n",
      "  (0, 1923)\t1\n",
      "  (0, 720)\t1\n",
      "  (0, 4904)\t1\n",
      "  (0, 1477)\t1\n",
      "  (0, 3353)\t1\n",
      "  (0, 2678)\t1\n",
      "  (0, 1579)\t1\n",
      "  (0, 2435)\t1\n",
      "  (0, 217)\t1\n",
      "  (0, 1455)\t1\n",
      "  (0, 1451)\t1\n",
      "  (0, 4416)\t1\n",
      "  (0, 2752)\t1\n",
      "  (0, 2106)\t1\n",
      "  (0, 660)\t1\n",
      "  (0, 2960)\t1\n",
      "  (0, 3523)\t1\n",
      "  :\t:\n",
      "  (4, 1288)\t1\n",
      "  (4, 802)\t1\n",
      "  (4, 1289)\t1\n",
      "  (4, 3233)\t1\n",
      "  (4, 4868)\t1\n",
      "  (4, 2684)\t1\n",
      "  (4, 4132)\t1\n",
      "  (4, 111)\t1\n",
      "  (4, 913)\t2\n",
      "  (4, 880)\t1\n",
      "  (4, 4788)\t1\n",
      "  (4, 2661)\t1\n",
      "  (4, 4987)\t1\n",
      "  (4, 570)\t1\n",
      "  (4, 4511)\t3\n",
      "  (4, 860)\t1\n",
      "  (4, 1657)\t1\n",
      "  (4, 2301)\t1\n",
      "  (4, 1911)\t1\n",
      "  (4, 746)\t1\n",
      "  (4, 3375)\t1\n",
      "  (4, 1816)\t1\n",
      "  (4, 3983)\t1\n",
      "  (4, 2388)\t1\n",
      "  (4, 4646)\t1\n"
     ]
    }
   ],
   "source": [
    "\n",
    "# Create the bag-of-words representation\n",
    "vectorizer = CountVectorizer(stop_words='english',max_features=5000)\n",
    "X_train = vectorizer.fit_transform(train_data)\n",
    "X_test = vectorizer.transform(test_data)\n",
    "\n",
    "print(\"X_train\",X_train[:5])"
   ]
  },
  {
   "cell_type": "code",
   "execution_count": null,
   "id": "b91a176c-0305-4db3-99a5-dc13c1ce2cda",
   "metadata": {},
   "outputs": [],
   "source": [
    "# Train the Support Vector Machine (SVM) classifier using OneVsRest strategy\n",
    "svm_classifier = OneVsRestClassifier(SVC(kernel='linear'),n_jobs=-1)\n",
    "svm_classifier.fit(X_train, y_train)\n",
    "\n",
    "# Predict on the test set\n",
    "y_pred = svm_classifier.predict(X_test)\n",
    "\n",
    "# Evaluate the accuracy\n",
    "accuracy = accuracy_score(y_test, y_pred)\n",
    "print(f\"Accuracy: {accuracy}\")"
   ]
  },
  {
   "cell_type": "code",
   "execution_count": null,
   "id": "56009020-af8b-4be0-8c02-4133ca57d63b",
   "metadata": {},
   "outputs": [],
   "source": [
    "# Print the complete classification report\n",
    "print(\"Classification Report:\")\n",
    "print(classification_report(y_test, y_pred, target_names=mlb.classes_))"
   ]
  },
  {
   "cell_type": "code",
   "execution_count": null,
   "id": "9b80245d-3563-4256-931c-66d64784e91d",
   "metadata": {},
   "outputs": [],
   "source": []
  }
 ],
 "metadata": {
  "kernelspec": {
   "display_name": "Python 3 (ipykernel)",
   "language": "python",
   "name": "python3"
  },
  "language_info": {
   "codemirror_mode": {
    "name": "ipython",
    "version": 3
   },
   "file_extension": ".py",
   "mimetype": "text/x-python",
   "name": "python",
   "nbconvert_exporter": "python",
   "pygments_lexer": "ipython3",
   "version": "3.11.2"
  }
 },
 "nbformat": 4,
 "nbformat_minor": 5
}
