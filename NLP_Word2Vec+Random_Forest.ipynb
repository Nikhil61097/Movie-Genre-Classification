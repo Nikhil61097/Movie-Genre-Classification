{
 "cells": [
  {
   "cell_type": "code",
   "execution_count": 1,
   "id": "affd0cd7-285c-4a65-b6a7-f1d2bac7178b",
   "metadata": {},
   "outputs": [],
   "source": [
    "import pandas as pd\n",
    "from sklearn.model_selection import train_test_split\n",
    "from sklearn.ensemble import RandomForestClassifier\n",
    "from sklearn.preprocessing import MultiLabelBinarizer\n",
    "from gensim.models import Word2Vec\n",
    "from sklearn.metrics import accuracy_score, classification_report\n",
    "from tqdm import tqdm\n",
    "from sklearn.metrics import make_scorer, f1_score\n",
    "import numpy as np\n",
    "import pandas as pd\n",
    "from sklearn.model_selection import train_test_split, GridSearchCV\n",
    "from sklearn.metrics import accuracy_score, classification_report"
   ]
  },
  {
   "cell_type": "code",
   "execution_count": 2,
   "id": "2167ff96-85cd-45e8-991a-78e53b460950",
   "metadata": {},
   "outputs": [
    {
     "name": "stdout",
     "output_type": "stream",
     "text": [
      "                          genre  \\\n",
      "0            Documentary, Short   \n",
      "1                         Short   \n",
      "2      Animation, Comedy, Short   \n",
      "3            Documentary, Short   \n",
      "4            Documentary, Short   \n",
      "...                         ...   \n",
      "46004                     Drama   \n",
      "46006               Documentary   \n",
      "46007                    Horror   \n",
      "46008  Comedy, Fantasy, Romance   \n",
      "46010                    Sci-Fi   \n",
      "\n",
      "                                                fullplot  \n",
      "0      Performing on what looks like a small wooden s...  \n",
      "1      A stationary camera looks at a large anvil wit...  \n",
      "2      One night, Arlequin come to see his lover Colo...  \n",
      "3      A man (Edison's assistant) takes a pinch of sn...  \n",
      "4      A man opens the big gates to the Lumi�re facto...  \n",
      "...                                                  ...  \n",
      "46004  A post modern theater adaptation of a classic ...  \n",
      "46006  Musician Jonny Greenwood travels to Rajasthan,...  \n",
      "46007  A cash strapped student who starts working the...  \n",
      "46008  Riza is a minibus driver universally loved by ...  \n",
      "46010                    Plot is being kept under wraps.  \n",
      "\n",
      "[41244 rows x 2 columns]\n"
     ]
    }
   ],
   "source": [
    "# Assuming your data is in a CSV file named 'movie_data.csv'\n",
    "data = pd.read_csv('movies_initial.csv')\n",
    "\n",
    "data = data[['genre','fullplot']]\n",
    "\n",
    "data = data.dropna(subset=['genre', 'fullplot'])\n",
    "print(data)"
   ]
  },
  {
   "cell_type": "code",
   "execution_count": 3,
   "id": "96b1e01a-4eb8-47b3-849c-d701e7f41753",
   "metadata": {},
   "outputs": [
    {
     "name": "stdout",
     "output_type": "stream",
     "text": [
      "Step 1: Data Preprocessing\n",
      "Training Data Shape: (32995, 2)\n",
      "Testing Data Shape: (8249, 2)\n",
      "\n",
      "Word2Vec model training on the movie plot text\n"
     ]
    }
   ],
   "source": [
    "\n",
    "print(\"Step 1: Data Preprocessing\")\n",
    "# Split the data into training and testing sets\n",
    "train_data, test_data = train_test_split(data, test_size=0.2, random_state=42)\n",
    "print(\"Training Data Shape:\", train_data.shape)\n",
    "print(\"Testing Data Shape:\", test_data.shape)\n",
    "\n",
    "print(\"\\nWord2Vec model training on the movie plot text\")\n",
    "# Word2Vec model training on the movie plot text\n",
    "word2vec_model = Word2Vec(sentences=train_data['fullplot'].apply(lambda x: x.split()), vector_size=100, window=5, min_count=1, workers=4)\n"
   ]
  },
  {
   "cell_type": "code",
   "execution_count": 4,
   "id": "837f4b13-e303-4a93-8f5f-c5c8680cd35b",
   "metadata": {},
   "outputs": [],
   "source": [
    "# Function to calculate the average word vector for a text\n",
    "def average_word_vector(words, model, num_features):\n",
    "    feature_vector = np.zeros((num_features,), dtype=\"float32\")\n",
    "    n_words = 0\n",
    "    for word in words:\n",
    "        if word in model.wv:\n",
    "            n_words += 1\n",
    "            feature_vector = np.add(feature_vector, model.wv[word])\n",
    "    if n_words > 0:\n",
    "        feature_vector = np.divide(feature_vector, n_words)\n",
    "    return feature_vector"
   ]
  },
  {
   "cell_type": "code",
   "execution_count": null,
   "id": "f3e09d44-3b44-41e6-b60a-2741385bd120",
   "metadata": {},
   "outputs": [
    {
     "name": "stdout",
     "output_type": "stream",
     "text": [
      "\n",
      "Create word vectors for training and testing sets\n"
     ]
    },
    {
     "name": "stderr",
     "output_type": "stream",
     "text": [
      " 61%|████████████████████████████████████████████▎                            | 20011/32995 [00:01<00:01, 12261.14it/s]"
     ]
    }
   ],
   "source": [
    "\n",
    "print(\"\\nCreate word vectors for training and testing sets\")\n",
    "# Create word vectors for training and testing sets\n",
    "X_train_word2vec = np.array([average_word_vector(plot.split(), word2vec_model, 100) for plot in tqdm(train_data['fullplot'])])\n",
    "X_test_word2vec = np.array([average_word_vector(plot.split(), word2vec_model, 100) for plot in tqdm(test_data['fullplot'])])\n",
    "\n",
    "print(\"Word Vector Shape - Training:\", X_train_word2vec.shape)\n",
    "print(\"Word Vector Shape - Testing:\", X_test_word2vec.shape)\n",
    "\n",
    "\n",
    "print(\"\\nTransform genres into binary matrix for multi-label classification\")\n",
    "# Transform genres into binary matrix for multi-label classification\n",
    "mlb = MultiLabelBinarizer()\n",
    "y_train = mlb.fit_transform(train_data['genre'].apply(lambda x: set(x.split(', '))))\n",
    "y_test = mlb.transform(test_data['genre'].apply(lambda x: set(x.split(', '))))\n",
    "\n",
    "\n",
    "print(y_train)"
   ]
  },
  {
   "cell_type": "code",
   "execution_count": null,
   "id": "14b38502-df33-4075-8809-2fcc67032b75",
   "metadata": {},
   "outputs": [],
   "source": [
    "# Set the max_depth parameter\n",
    "max_depth_value = 20  # Adjust this value based on your experimentation\n",
    "\n",
    "print(\"\\nStep 2: Random Forest Model Training with Max Depth\")\n",
    "# Random Forest model training with tqdm and max_depth\n",
    "rf_model_max_depth = RandomForestClassifier(n_estimators=150, max_depth=max_depth_value, random_state=42)\n",
    "\n",
    "# Fit the model\n",
    "rf_model_max_depth.fit(X_train_word2vec, y_train)\n",
    "\n",
    "print(\"\\nStep 3: Evaluation with Max Depth\")\n",
    "# Predict the labels for the test set\n",
    "y_pred_rf_max_depth = rf_model_max_depth.predict(X_test_word2vec)\n",
    "\n",
    "# Evaluate the performance\n",
    "accuracy_rf = accuracy_score(y_test, y_pred_rf_max_depth)\n",
    "print(f\"Random Forest Accuracy: {accuracy_rf:.2f}\")\n",
    "\n",
    "# Display detailed classification report for Random Forest with Max Depth\n",
    "print(\"\\nRandom Forest Classification Report with Max Depth:\")\n",
    "print(classification_report(y_test, y_pred_rf_max_depth,target_names=mlb.classes_))"
   ]
  },
  {
   "cell_type": "code",
   "execution_count": null,
   "id": "8391560c-e18e-4d1e-aff3-2cb962d42d33",
   "metadata": {},
   "outputs": [],
   "source": [
    "print(y_pred_rf_max_depth[:20],y_test[:20])\n",
    "array1 = np.array(y_pred_rf_max_depth)\n",
    "array2 = np.array(y_test)\n",
    "matching_ones = np.sum((array1 == 1) & (array2 == 1))\n",
    "not_matching_ones = np.sum((array1 == 1) & (array2 == 0) | (array1 == 0) & (array2 == 1))\n",
    "\n",
    "# Print the results\n",
    "print(\"Number of matching 1s:\", matching_ones)\n",
    "print(\"Number of not matching 1s:\", not_matching_ones)\n",
    "print('')"
   ]
  },
  {
   "cell_type": "code",
   "execution_count": null,
   "id": "9d98bdeb-aed4-469f-b012-096420c9e1db",
   "metadata": {},
   "outputs": [],
   "source": []
  }
 ],
 "metadata": {
  "kernelspec": {
   "display_name": "Python 3 (ipykernel)",
   "language": "python",
   "name": "python3"
  },
  "language_info": {
   "codemirror_mode": {
    "name": "ipython",
    "version": 3
   },
   "file_extension": ".py",
   "mimetype": "text/x-python",
   "name": "python",
   "nbconvert_exporter": "python",
   "pygments_lexer": "ipython3",
   "version": "3.11.2"
  }
 },
 "nbformat": 4,
 "nbformat_minor": 5
}
